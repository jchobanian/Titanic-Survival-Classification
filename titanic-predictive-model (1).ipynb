{
 "cells": [
  {
   "cell_type": "code",
   "execution_count": 1,
   "id": "d1ff4abe",
   "metadata": {
    "_cell_guid": "b1076dfc-b9ad-4769-8c92-a6c4dae69d19",
    "_uuid": "8f2839f25d086af736a60e9eeb907d3b93b6e0e5",
    "execution": {
     "iopub.execute_input": "2022-04-21T23:19:16.634497Z",
     "iopub.status.busy": "2022-04-21T23:19:16.633835Z",
     "iopub.status.idle": "2022-04-21T23:19:18.311999Z",
     "shell.execute_reply": "2022-04-21T23:19:18.312689Z",
     "shell.execute_reply.started": "2022-04-21T22:21:16.330938Z"
    },
    "papermill": {
     "duration": 1.744851,
     "end_time": "2022-04-21T23:19:18.313130",
     "exception": false,
     "start_time": "2022-04-21T23:19:16.568279",
     "status": "completed"
    },
    "tags": []
   },
   "outputs": [
    {
     "name": "stdout",
     "output_type": "stream",
     "text": [
      "/kaggle/input/titanic/train.csv\n",
      "/kaggle/input/titanic/test.csv\n",
      "/kaggle/input/titanic/gender_submission.csv\n"
     ]
    }
   ],
   "source": [
    "\n",
    "import numpy as np # linear algebra\n",
    "import pandas as pd # data processing, CSV file I/O (e.g. pd.read_csv)\n",
    "\n",
    "# for graphs and visualizations\n",
    "import matplotlib.pyplot as plt\n",
    "import seaborn as sns\n",
    "\n",
    "#machine learning models\n",
    "from sklearn.linear_model import LogisticRegression\n",
    "from sklearn.ensemble import RandomForestClassifier\n",
    "from sklearn.neighbors import KNeighborsClassifier\n",
    "from sklearn.ensemble import VotingClassifier\n",
    "\n",
    "# to evaluate machine learning models\n",
    "from sklearn.model_selection import cross_val_score\n",
    "from sklearn.model_selection import GridSearchCV\n",
    "\n",
    "# Input data files are available in the read-only \"../input/\" directory\n",
    "# For example, running this (by clicking run or pressing Shift+Enter) will list all files under the input directory\n",
    "\n",
    "import os\n",
    "for dirname, _, filenames in os.walk('/kaggle/input'):\n",
    "    for filename in filenames:\n",
    "        print(os.path.join(dirname, filename))\n"
   ]
  },
  {
   "cell_type": "markdown",
   "id": "1a5a52a9",
   "metadata": {
    "papermill": {
     "duration": 0.044358,
     "end_time": "2022-04-21T23:19:18.406729",
     "exception": false,
     "start_time": "2022-04-21T23:19:18.362371",
     "status": "completed"
    },
    "tags": []
   },
   "source": [
    "**Exploratory analysis**"
   ]
  },
  {
   "cell_type": "code",
   "execution_count": 2,
   "id": "4c3b0c76",
   "metadata": {
    "execution": {
     "iopub.execute_input": "2022-04-21T23:19:18.506729Z",
     "iopub.status.busy": "2022-04-21T23:19:18.506011Z",
     "iopub.status.idle": "2022-04-21T23:19:18.608622Z",
     "shell.execute_reply": "2022-04-21T23:19:18.609164Z",
     "shell.execute_reply.started": "2022-04-21T22:21:16.366903Z"
    },
    "papermill": {
     "duration": 0.155207,
     "end_time": "2022-04-21T23:19:18.609388",
     "exception": false,
     "start_time": "2022-04-21T23:19:18.454181",
     "status": "completed"
    },
    "tags": []
   },
   "outputs": [
    {
     "name": "stdout",
     "output_type": "stream",
     "text": [
      "       PassengerId    Survived      Pclass         Age       SibSp  \\\n",
      "count   891.000000  891.000000  891.000000  714.000000  891.000000   \n",
      "mean    446.000000    0.383838    2.308642   29.699118    0.523008   \n",
      "std     257.353842    0.486592    0.836071   14.526497    1.102743   \n",
      "min       1.000000    0.000000    1.000000    0.420000    0.000000   \n",
      "25%     223.500000    0.000000    2.000000   20.125000    0.000000   \n",
      "50%     446.000000    0.000000    3.000000   28.000000    0.000000   \n",
      "75%     668.500000    1.000000    3.000000   38.000000    1.000000   \n",
      "max     891.000000    1.000000    3.000000   80.000000    8.000000   \n",
      "\n",
      "            Parch        Fare  \n",
      "count  891.000000  891.000000  \n",
      "mean     0.381594   32.204208  \n",
      "std      0.806057   49.693429  \n",
      "min      0.000000    0.000000  \n",
      "25%      0.000000    7.910400  \n",
      "50%      0.000000   14.454200  \n",
      "75%      0.000000   31.000000  \n",
      "max      6.000000  512.329200  \n",
      "PassengerId      0\n",
      "Survived         0\n",
      "Pclass           0\n",
      "Name             0\n",
      "Sex              0\n",
      "Age            177\n",
      "SibSp            0\n",
      "Parch            0\n",
      "Ticket           0\n",
      "Fare             0\n",
      "Cabin          687\n",
      "Embarked         2\n",
      "dtype: int64\n",
      "-------------------------------------\n",
      "       PassengerId      Pclass         Age       SibSp       Parch        Fare\n",
      "count   418.000000  418.000000  332.000000  418.000000  418.000000  417.000000\n",
      "mean   1100.500000    2.265550   30.272590    0.447368    0.392344   35.627188\n",
      "std     120.810458    0.841838   14.181209    0.896760    0.981429   55.907576\n",
      "min     892.000000    1.000000    0.170000    0.000000    0.000000    0.000000\n",
      "25%     996.250000    1.000000   21.000000    0.000000    0.000000    7.895800\n",
      "50%    1100.500000    3.000000   27.000000    0.000000    0.000000   14.454200\n",
      "75%    1204.750000    3.000000   39.000000    1.000000    0.000000   31.500000\n",
      "max    1309.000000    3.000000   76.000000    8.000000    9.000000  512.329200\n"
     ]
    },
    {
     "data": {
      "text/html": [
       "<div>\n",
       "<style scoped>\n",
       "    .dataframe tbody tr th:only-of-type {\n",
       "        vertical-align: middle;\n",
       "    }\n",
       "\n",
       "    .dataframe tbody tr th {\n",
       "        vertical-align: top;\n",
       "    }\n",
       "\n",
       "    .dataframe thead th {\n",
       "        text-align: right;\n",
       "    }\n",
       "</style>\n",
       "<table border=\"1\" class=\"dataframe\">\n",
       "  <thead>\n",
       "    <tr style=\"text-align: right;\">\n",
       "      <th></th>\n",
       "      <th>PassengerId</th>\n",
       "      <th>Pclass</th>\n",
       "      <th>Name</th>\n",
       "      <th>Sex</th>\n",
       "      <th>Age</th>\n",
       "      <th>SibSp</th>\n",
       "      <th>Parch</th>\n",
       "      <th>Ticket</th>\n",
       "      <th>Fare</th>\n",
       "      <th>Cabin</th>\n",
       "      <th>Embarked</th>\n",
       "    </tr>\n",
       "  </thead>\n",
       "  <tbody>\n",
       "    <tr>\n",
       "      <th>0</th>\n",
       "      <td>892</td>\n",
       "      <td>3</td>\n",
       "      <td>Kelly, Mr. James</td>\n",
       "      <td>male</td>\n",
       "      <td>34.5</td>\n",
       "      <td>0</td>\n",
       "      <td>0</td>\n",
       "      <td>330911</td>\n",
       "      <td>7.8292</td>\n",
       "      <td>NaN</td>\n",
       "      <td>Q</td>\n",
       "    </tr>\n",
       "    <tr>\n",
       "      <th>1</th>\n",
       "      <td>893</td>\n",
       "      <td>3</td>\n",
       "      <td>Wilkes, Mrs. James (Ellen Needs)</td>\n",
       "      <td>female</td>\n",
       "      <td>47.0</td>\n",
       "      <td>1</td>\n",
       "      <td>0</td>\n",
       "      <td>363272</td>\n",
       "      <td>7.0000</td>\n",
       "      <td>NaN</td>\n",
       "      <td>S</td>\n",
       "    </tr>\n",
       "    <tr>\n",
       "      <th>2</th>\n",
       "      <td>894</td>\n",
       "      <td>2</td>\n",
       "      <td>Myles, Mr. Thomas Francis</td>\n",
       "      <td>male</td>\n",
       "      <td>62.0</td>\n",
       "      <td>0</td>\n",
       "      <td>0</td>\n",
       "      <td>240276</td>\n",
       "      <td>9.6875</td>\n",
       "      <td>NaN</td>\n",
       "      <td>Q</td>\n",
       "    </tr>\n",
       "    <tr>\n",
       "      <th>3</th>\n",
       "      <td>895</td>\n",
       "      <td>3</td>\n",
       "      <td>Wirz, Mr. Albert</td>\n",
       "      <td>male</td>\n",
       "      <td>27.0</td>\n",
       "      <td>0</td>\n",
       "      <td>0</td>\n",
       "      <td>315154</td>\n",
       "      <td>8.6625</td>\n",
       "      <td>NaN</td>\n",
       "      <td>S</td>\n",
       "    </tr>\n",
       "    <tr>\n",
       "      <th>4</th>\n",
       "      <td>896</td>\n",
       "      <td>3</td>\n",
       "      <td>Hirvonen, Mrs. Alexander (Helga E Lindqvist)</td>\n",
       "      <td>female</td>\n",
       "      <td>22.0</td>\n",
       "      <td>1</td>\n",
       "      <td>1</td>\n",
       "      <td>3101298</td>\n",
       "      <td>12.2875</td>\n",
       "      <td>NaN</td>\n",
       "      <td>S</td>\n",
       "    </tr>\n",
       "  </tbody>\n",
       "</table>\n",
       "</div>"
      ],
      "text/plain": [
       "   PassengerId  Pclass                                          Name     Sex  \\\n",
       "0          892       3                              Kelly, Mr. James    male   \n",
       "1          893       3              Wilkes, Mrs. James (Ellen Needs)  female   \n",
       "2          894       2                     Myles, Mr. Thomas Francis    male   \n",
       "3          895       3                              Wirz, Mr. Albert    male   \n",
       "4          896       3  Hirvonen, Mrs. Alexander (Helga E Lindqvist)  female   \n",
       "\n",
       "    Age  SibSp  Parch   Ticket     Fare Cabin Embarked  \n",
       "0  34.5      0      0   330911   7.8292   NaN        Q  \n",
       "1  47.0      1      0   363272   7.0000   NaN        S  \n",
       "2  62.0      0      0   240276   9.6875   NaN        Q  \n",
       "3  27.0      0      0   315154   8.6625   NaN        S  \n",
       "4  22.0      1      1  3101298  12.2875   NaN        S  "
      ]
     },
     "execution_count": 2,
     "metadata": {},
     "output_type": "execute_result"
    }
   ],
   "source": [
    "#load the training data and get summary statistics\n",
    "train_data = pd.read_csv('/kaggle/input/titanic/train.csv')\n",
    "print(train_data.describe())\n",
    "print(train_data.isnull().sum())\n",
    "train_data.head()\n",
    "print('-------------------------------------')\n",
    "\n",
    "# load the test set\n",
    "test_data = pd.read_csv('/kaggle/input/titanic/test.csv')\n",
    "print(test_data.describe())\n",
    "test_data.head()"
   ]
  },
  {
   "cell_type": "markdown",
   "id": "63e1720d",
   "metadata": {
    "papermill": {
     "duration": 0.044885,
     "end_time": "2022-04-21T23:19:18.699662",
     "exception": false,
     "start_time": "2022-04-21T23:19:18.654777",
     "status": "completed"
    },
    "tags": []
   },
   "source": [
    "**baseline accuracy:** this is a classification problem with 2 outcomes life or death. we see that the survival rate was ~38.4% which give a Zero Rate classifier of 61.6% as our baseline accuracy. \n",
    "\n",
    "we notice that there are a large number of missing Cabin numbers, that we are missing about 1/5 of the ages, and embarkation data from 2 passengers"
   ]
  },
  {
   "cell_type": "code",
   "execution_count": 3,
   "id": "3ae02f8e",
   "metadata": {
    "execution": {
     "iopub.execute_input": "2022-04-21T23:19:18.805482Z",
     "iopub.status.busy": "2022-04-21T23:19:18.803438Z",
     "iopub.status.idle": "2022-04-21T23:19:18.812247Z",
     "shell.execute_reply": "2022-04-21T23:19:18.813141Z",
     "shell.execute_reply.started": "2022-04-21T22:21:16.437072Z"
    },
    "papermill": {
     "duration": 0.067429,
     "end_time": "2022-04-21T23:19:18.813412",
     "exception": false,
     "start_time": "2022-04-21T23:19:18.745983",
     "status": "completed"
    },
    "tags": []
   },
   "outputs": [
    {
     "name": "stdout",
     "output_type": "stream",
     "text": [
      "3    491\n",
      "1    216\n",
      "2    184\n",
      "Name: Pclass, dtype: int64\n",
      "male      577\n",
      "female    314\n",
      "Name: Sex, dtype: int64\n",
      "0    608\n",
      "1    209\n",
      "2     28\n",
      "4     18\n",
      "3     16\n",
      "8      7\n",
      "5      5\n",
      "Name: SibSp, dtype: int64\n",
      "0    678\n",
      "1    118\n",
      "2     80\n",
      "5      5\n",
      "3      5\n",
      "4      4\n",
      "6      1\n",
      "Name: Parch, dtype: int64\n",
      "S    644\n",
      "C    168\n",
      "Q     77\n",
      "Name: Embarked, dtype: int64\n"
     ]
    }
   ],
   "source": [
    "#get value counts for categorical* data columns\n",
    "print(train_data['Pclass'].value_counts())\n",
    "print(train_data['Sex'].value_counts())\n",
    "print(train_data['SibSp'].value_counts())\n",
    "print(train_data['Parch'].value_counts())\n",
    "print(train_data['Embarked'].value_counts())"
   ]
  },
  {
   "cell_type": "markdown",
   "id": "dc94eb05",
   "metadata": {
    "papermill": {
     "duration": 0.046098,
     "end_time": "2022-04-21T23:19:18.905869",
     "exception": false,
     "start_time": "2022-04-21T23:19:18.859771",
     "status": "completed"
    },
    "tags": []
   },
   "source": [
    "we can see that the majority of passengers are 3rd class, male, traveling alone, and embarked at port 'S'"
   ]
  },
  {
   "cell_type": "code",
   "execution_count": 4,
   "id": "7ac8388b",
   "metadata": {
    "execution": {
     "iopub.execute_input": "2022-04-21T23:19:19.001862Z",
     "iopub.status.busy": "2022-04-21T23:19:19.000845Z",
     "iopub.status.idle": "2022-04-21T23:19:19.030378Z",
     "shell.execute_reply": "2022-04-21T23:19:19.029705Z",
     "shell.execute_reply.started": "2022-04-21T22:21:16.469488Z"
    },
    "papermill": {
     "duration": 0.079002,
     "end_time": "2022-04-21T23:19:19.030539",
     "exception": false,
     "start_time": "2022-04-21T23:19:18.951537",
     "status": "completed"
    },
    "tags": []
   },
   "outputs": [
    {
     "data": {
      "text/html": [
       "<div>\n",
       "<style scoped>\n",
       "    .dataframe tbody tr th:only-of-type {\n",
       "        vertical-align: middle;\n",
       "    }\n",
       "\n",
       "    .dataframe tbody tr th {\n",
       "        vertical-align: top;\n",
       "    }\n",
       "\n",
       "    .dataframe thead th {\n",
       "        text-align: right;\n",
       "    }\n",
       "</style>\n",
       "<table border=\"1\" class=\"dataframe\">\n",
       "  <thead>\n",
       "    <tr style=\"text-align: right;\">\n",
       "      <th></th>\n",
       "      <th>PassengerId</th>\n",
       "      <th>Survived</th>\n",
       "      <th>Pclass</th>\n",
       "      <th>Name</th>\n",
       "      <th>Sex</th>\n",
       "      <th>Age</th>\n",
       "      <th>SibSp</th>\n",
       "      <th>Parch</th>\n",
       "      <th>Ticket</th>\n",
       "      <th>Fare</th>\n",
       "      <th>Cabin</th>\n",
       "      <th>Embarked</th>\n",
       "      <th>isMale</th>\n",
       "      <th>Embarked_C</th>\n",
       "      <th>Embarked_Q</th>\n",
       "      <th>Embarked_S</th>\n",
       "    </tr>\n",
       "  </thead>\n",
       "  <tbody>\n",
       "    <tr>\n",
       "      <th>0</th>\n",
       "      <td>1</td>\n",
       "      <td>0</td>\n",
       "      <td>3</td>\n",
       "      <td>Braund, Mr. Owen Harris</td>\n",
       "      <td>male</td>\n",
       "      <td>22.0</td>\n",
       "      <td>1</td>\n",
       "      <td>0</td>\n",
       "      <td>A/5 21171</td>\n",
       "      <td>7.25</td>\n",
       "      <td>NaN</td>\n",
       "      <td>S</td>\n",
       "      <td>1</td>\n",
       "      <td>0</td>\n",
       "      <td>0</td>\n",
       "      <td>1</td>\n",
       "    </tr>\n",
       "  </tbody>\n",
       "</table>\n",
       "</div>"
      ],
      "text/plain": [
       "   PassengerId  Survived  Pclass                     Name   Sex   Age  SibSp  \\\n",
       "0            1         0       3  Braund, Mr. Owen Harris  male  22.0      1   \n",
       "\n",
       "   Parch     Ticket  Fare Cabin Embarked  isMale  Embarked_C  Embarked_Q  \\\n",
       "0      0  A/5 21171  7.25   NaN        S       1           0           0   \n",
       "\n",
       "   Embarked_S  \n",
       "0           1  "
      ]
     },
     "execution_count": 4,
     "metadata": {},
     "output_type": "execute_result"
    }
   ],
   "source": [
    "# lets convert sex to a numerical variable to work with it more easily\n",
    "train_data['isMale'] = pd.get_dummies(train_data['Sex'], drop_first= True)\n",
    "test_data['isMale'] = pd.get_dummies(test_data['Sex'], drop_first= True)\n",
    "\n",
    "# we are only missing 2 values from the 'Embarked' column. since nearly 72% of passengers embarked at 'S',\n",
    "# will will fill the missing values with 'S'\n",
    "train_data['Embarked']=train_data['Embarked'].fillna('S')\n",
    "test_data['Embarked']=test_data['Embarked'].fillna('S')\n",
    "\n",
    "# lets get some dummer variables for the 'Embarked' column\n",
    "train_data[['Embarked_C','Embarked_Q','Embarked_S']]= pd.get_dummies(train_data['Embarked'])\n",
    "test_data[['Embarked_C','Embarked_Q','Embarked_S']]= pd.get_dummies(test_data['Embarked'])\n",
    "\n",
    "#lets check that this looks right\n",
    "train_data.head(1)"
   ]
  },
  {
   "cell_type": "code",
   "execution_count": 5,
   "id": "e87bdf25",
   "metadata": {
    "execution": {
     "iopub.execute_input": "2022-04-21T23:19:19.130356Z",
     "iopub.status.busy": "2022-04-21T23:19:19.129566Z",
     "iopub.status.idle": "2022-04-21T23:19:20.202723Z",
     "shell.execute_reply": "2022-04-21T23:19:20.203278Z",
     "shell.execute_reply.started": "2022-04-21T22:34:09.036280Z"
    },
    "papermill": {
     "duration": 1.127116,
     "end_time": "2022-04-21T23:19:20.203481",
     "exception": false,
     "start_time": "2022-04-21T23:19:19.076365",
     "status": "completed"
    },
    "tags": []
   },
   "outputs": [
    {
     "data": {
      "text/plain": [
       "<AxesSubplot:>"
      ]
     },
     "execution_count": 5,
     "metadata": {},
     "output_type": "execute_result"
    },
    {
     "data": {
      "image/png": "[encoded data removed]",
      "text/plain": [
       "<Figure size 1080x432 with 2 Axes>"
      ]
     },
     "metadata": {},
     "output_type": "display_data"
    }
   ],
   "source": [
    "#build a correlation heatmap so that we can see what variables are correlated, specifically to survival\n",
    "sns.set(rc = {'figure.figsize':(15,6)})\n",
    "sns.heatmap(train_data.corr(), cmap= 'YlGnBu', annot=True)"
   ]
  },
  {
   "cell_type": "markdown",
   "id": "05742c58",
   "metadata": {
    "papermill": {
     "duration": 0.050367,
     "end_time": "2022-04-21T23:19:20.304308",
     "exception": false,
     "start_time": "2022-04-21T23:19:20.253941",
     "status": "completed"
    },
    "tags": []
   },
   "source": [
    "-from the heat map we can see that the following variables are highly correlated to survival: Sex,ticket class, fare, and whether you embarked at 'C' (Cherbourg)\n",
    "\n",
    "-Sex appears to be the most important predictor of survival. and that sex is correlated with ticket class and the number of family members you have on board\n",
    "\n",
    "-ticket class is second most important factor and seems to be correlated with age\n"
   ]
  },
  {
   "cell_type": "markdown",
   "id": "dc059c6a",
   "metadata": {
    "papermill": {
     "duration": 0.049843,
     "end_time": "2022-04-21T23:19:20.405345",
     "exception": false,
     "start_time": "2022-04-21T23:19:20.355502",
     "status": "completed"
    },
    "tags": []
   },
   "source": [
    "**taking a closer look at some of these relationships**"
   ]
  },
  {
   "cell_type": "code",
   "execution_count": 6,
   "id": "d3eee1b1",
   "metadata": {
    "execution": {
     "iopub.execute_input": "2022-04-21T23:19:20.511599Z",
     "iopub.status.busy": "2022-04-21T23:19:20.510843Z",
     "iopub.status.idle": "2022-04-21T23:19:20.754093Z",
     "shell.execute_reply": "2022-04-21T23:19:20.753423Z",
     "shell.execute_reply.started": "2022-04-21T22:21:17.621965Z"
    },
    "papermill": {
     "duration": 0.297673,
     "end_time": "2022-04-21T23:19:20.754272",
     "exception": false,
     "start_time": "2022-04-21T23:19:20.456599",
     "status": "completed"
    },
    "tags": []
   },
   "outputs": [
    {
     "name": "stdout",
     "output_type": "stream",
     "text": [
      "the survival rate for woman was:  0.7420382165605095\n",
      "the survival rate for men was:  0.18890814558058924\n"
     ]
    },
    {
     "data": {
      "image/png": "[encoded data removed]",
      "text/plain": [
       "<Figure size 1080x432 with 1 Axes>"
      ]
     },
     "metadata": {},
     "output_type": "display_data"
    }
   ],
   "source": [
    "#visualizing some of the relationships. \n",
    "sns.countplot(x = 'Survived', hue = 'Sex', data = train_data)\n",
    "\n",
    "# check for the proportion of women that survived\n",
    "women = train_data.loc[train_data.Sex=='female']['Survived']\n",
    "rate_women = sum(women)/len(women)\n",
    "print('the survival rate for woman was: ', rate_women)\n",
    "\n",
    "# check for the proportion of men that survived\n",
    "men = train_data.loc[train_data.Sex == 'male']['Survived']\n",
    "rate_men = sum(men)/len(men)\n",
    "print('the survival rate for men was: ', rate_men)"
   ]
  },
  {
   "cell_type": "markdown",
   "id": "76708299",
   "metadata": {
    "papermill": {
     "duration": 0.052012,
     "end_time": "2022-04-21T23:19:20.858779",
     "exception": false,
     "start_time": "2022-04-21T23:19:20.806767",
     "status": "completed"
    },
    "tags": []
   },
   "source": [
    "we can see that the vast majority of women survived, and the vast majority of men parished"
   ]
  },
  {
   "cell_type": "markdown",
   "id": "1bab8df8",
   "metadata": {
    "papermill": {
     "duration": 0.051419,
     "end_time": "2022-04-21T23:19:20.962929",
     "exception": false,
     "start_time": "2022-04-21T23:19:20.911510",
     "status": "completed"
    },
    "tags": []
   },
   "source": [
    "**How much of a difference does class make?**"
   ]
  },
  {
   "cell_type": "code",
   "execution_count": 7,
   "id": "93fe0cd2",
   "metadata": {
    "execution": {
     "iopub.execute_input": "2022-04-21T23:19:21.088785Z",
     "iopub.status.busy": "2022-04-21T23:19:21.087642Z",
     "iopub.status.idle": "2022-04-21T23:19:21.321892Z",
     "shell.execute_reply": "2022-04-21T23:19:21.322368Z",
     "shell.execute_reply.started": "2022-04-21T22:21:17.811792Z"
    },
    "papermill": {
     "duration": 0.307684,
     "end_time": "2022-04-21T23:19:21.322592",
     "exception": false,
     "start_time": "2022-04-21T23:19:21.014908",
     "status": "completed"
    },
    "tags": []
   },
   "outputs": [
    {
     "data": {
      "text/html": [
       "<div>\n",
       "<style scoped>\n",
       "    .dataframe tbody tr th:only-of-type {\n",
       "        vertical-align: middle;\n",
       "    }\n",
       "\n",
       "    .dataframe tbody tr th {\n",
       "        vertical-align: top;\n",
       "    }\n",
       "\n",
       "    .dataframe thead th {\n",
       "        text-align: right;\n",
       "    }\n",
       "</style>\n",
       "<table border=\"1\" class=\"dataframe\">\n",
       "  <thead>\n",
       "    <tr style=\"text-align: right;\">\n",
       "      <th></th>\n",
       "      <th>Pclass</th>\n",
       "      <th>Survived</th>\n",
       "    </tr>\n",
       "  </thead>\n",
       "  <tbody>\n",
       "    <tr>\n",
       "      <th>0</th>\n",
       "      <td>1</td>\n",
       "      <td>0.629630</td>\n",
       "    </tr>\n",
       "    <tr>\n",
       "      <th>1</th>\n",
       "      <td>2</td>\n",
       "      <td>0.472826</td>\n",
       "    </tr>\n",
       "    <tr>\n",
       "      <th>2</th>\n",
       "      <td>3</td>\n",
       "      <td>0.242363</td>\n",
       "    </tr>\n",
       "  </tbody>\n",
       "</table>\n",
       "</div>"
      ],
      "text/plain": [
       "   Pclass  Survived\n",
       "0       1  0.629630\n",
       "1       2  0.472826\n",
       "2       3  0.242363"
      ]
     },
     "execution_count": 7,
     "metadata": {},
     "output_type": "execute_result"
    },
    {
     "data": {
      "image/png": "[encoded data removed]",
      "text/plain": [
       "<Figure size 1080x432 with 1 Axes>"
      ]
     },
     "metadata": {},
     "output_type": "display_data"
    }
   ],
   "source": [
    "#graph survival rate by class\n",
    "cls1,cls2,cls3 = train_data.groupby(['Pclass'])['Survived'].mean()\n",
    "fig, ax = plt.subplots()\n",
    "sns.barplot( x = ['first class','second class', 'third class'], y = [cls1,cls2,cls3])\n",
    "ax.set_ylabel('Survival Rate')\n",
    "fig.suptitle('Survival Rate by Ticket Class')\n",
    "train_data[['Pclass', 'Survived']].groupby(['Pclass'], as_index=False).mean().sort_values(by='Survived', ascending=False)"
   ]
  },
  {
   "cell_type": "markdown",
   "id": "a7f1e8cb",
   "metadata": {
    "papermill": {
     "duration": 0.053018,
     "end_time": "2022-04-21T23:19:21.431029",
     "exception": false,
     "start_time": "2022-04-21T23:19:21.378011",
     "status": "completed"
    },
    "tags": []
   },
   "source": [
    "we can see that class had a significant impact of survival rate. We also noticed that there was a correlation between sex and ticket class, so lets make sure this isnt just due to sex."
   ]
  },
  {
   "cell_type": "code",
   "execution_count": 8,
   "id": "499cae92",
   "metadata": {
    "execution": {
     "iopub.execute_input": "2022-04-21T23:19:21.542347Z",
     "iopub.status.busy": "2022-04-21T23:19:21.541536Z",
     "iopub.status.idle": "2022-04-21T23:19:21.817610Z",
     "shell.execute_reply": "2022-04-21T23:19:21.818121Z",
     "shell.execute_reply.started": "2022-04-21T22:21:18.003412Z"
    },
    "papermill": {
     "duration": 0.33323,
     "end_time": "2022-04-21T23:19:21.818314",
     "exception": false,
     "start_time": "2022-04-21T23:19:21.485084",
     "status": "completed"
    },
    "tags": []
   },
   "outputs": [
    {
     "name": "stdout",
     "output_type": "stream",
     "text": [
      "               Survived\n",
      "Pclass Sex             \n",
      "1      female  0.968085\n",
      "       male    0.368852\n",
      "2      female  0.921053\n",
      "       male    0.157407\n",
      "3      female  0.500000\n",
      "       male    0.135447\n"
     ]
    },
    {
     "data": {
      "image/png": "[encoded data removed]",
      "text/plain": [
       "<Figure size 1080x432 with 1 Axes>"
      ]
     },
     "metadata": {},
     "output_type": "display_data"
    }
   ],
   "source": [
    "sns.countplot( x = 'Pclass', hue = 'Sex', data = train_data)\n",
    "print(train_data[['Sex','Pclass','Survived']].groupby(['Pclass','Sex']).mean())"
   ]
  },
  {
   "cell_type": "markdown",
   "id": "9028df36",
   "metadata": {
    "papermill": {
     "duration": 0.053875,
     "end_time": "2022-04-21T23:19:21.927950",
     "exception": false,
     "start_time": "2022-04-21T23:19:21.874075",
     "status": "completed"
    },
    "tags": []
   },
   "source": [
    "-interestingly, we notice that the survival rate for 1st and second class women is high in the low 90% rannge while women in 3rd class only had  approximately 50% survival rate. \n",
    "-while the survival rate of men in 2nd and 3rd class was around 15% but 1st class men had a survival rate of just under 37%, more than 2x as likely to survive. \n",
    "we conclude that the survival of higher class passengers is not solely due to gender distribution"
   ]
  },
  {
   "cell_type": "markdown",
   "id": "9b3f79cc",
   "metadata": {
    "papermill": {
     "duration": 0.054319,
     "end_time": "2022-04-21T23:19:22.035853",
     "exception": false,
     "start_time": "2022-04-21T23:19:21.981534",
     "status": "completed"
    },
    "tags": []
   },
   "source": [
    " **Although ticket class is correlated with Fare, there is a wide range of fares paid. does this make a diffrence?**"
   ]
  },
  {
   "cell_type": "code",
   "execution_count": 9,
   "id": "62f7d5de",
   "metadata": {
    "execution": {
     "iopub.execute_input": "2022-04-21T23:19:22.152929Z",
     "iopub.status.busy": "2022-04-21T23:19:22.152290Z",
     "iopub.status.idle": "2022-04-21T23:19:22.991762Z",
     "shell.execute_reply": "2022-04-21T23:19:22.992282Z",
     "shell.execute_reply.started": "2022-04-21T22:50:45.674230Z"
    },
    "papermill": {
     "duration": 0.898612,
     "end_time": "2022-04-21T23:19:22.992462",
     "exception": false,
     "start_time": "2022-04-21T23:19:22.093850",
     "status": "completed"
    },
    "tags": []
   },
   "outputs": [
    {
     "data": {
      "text/plain": [
       "Text(0.5, 0.98, 'Survival Rate by Ticket Class')"
      ]
     },
     "execution_count": 9,
     "metadata": {},
     "output_type": "execute_result"
    },
    {
     "data": {
      "image/png": "[encoded data removed]",
      "text/plain": [
       "<Figure size 1080x432 with 1 Axes>"
      ]
     },
     "metadata": {},
     "output_type": "display_data"
    }
   ],
   "source": [
    "sns.histplot(x = 'Fare', bins = 50, data = train_data, kde = True, hue = 'Survived')\n",
    "fig.suptitle('Survival Rate by Ticket Class')"
   ]
  },
  {
   "cell_type": "markdown",
   "id": "5ee68be5",
   "metadata": {
    "papermill": {
     "duration": 0.055917,
     "end_time": "2022-04-21T23:19:23.104528",
     "exception": false,
     "start_time": "2022-04-21T23:19:23.048611",
     "status": "completed"
    },
    "tags": []
   },
   "source": [
    "it would appear that fare is even more dramatically related to survival rate than is class with the lowest ticket prices resulting in almost certain death and the highest ticket prices having incredibly high survival rates. lets take a look at the breakdown of 1st class ticket prices and see if it made a difference"
   ]
  },
  {
   "cell_type": "code",
   "execution_count": 10,
   "id": "0b7b06ea",
   "metadata": {
    "execution": {
     "iopub.execute_input": "2022-04-21T23:19:23.220119Z",
     "iopub.status.busy": "2022-04-21T23:19:23.219114Z",
     "iopub.status.idle": "2022-04-21T23:19:23.258070Z",
     "shell.execute_reply": "2022-04-21T23:19:23.257398Z",
     "shell.execute_reply.started": "2022-04-21T22:21:18.746512Z"
    },
    "papermill": {
     "duration": 0.098405,
     "end_time": "2022-04-21T23:19:23.258215",
     "exception": false,
     "start_time": "2022-04-21T23:19:23.159810",
     "status": "completed"
    },
    "tags": []
   },
   "outputs": [
    {
     "name": "stdout",
     "output_type": "stream",
     "text": [
      "             Fare  Survived\n",
      "Pclass                     \n",
      "1       84.154687  0.629630\n",
      "2       20.662183  0.472826\n",
      "3       13.675550  0.242363\n",
      "there were  70  1st class passengers who paid less than $40 and their survival rate was:  0.45714285714285713\n",
      "there were  70  1st class passengers who paid between $40 and $80, their survival rate was:  0.6428571428571429\n",
      "there were 76  1st class passengers who paid more than $80 and their survival rate was:  0.7763157894736842\n",
      "-------------------------------------------------------------------------\n",
      "there were  91  2nd class passengers who paid less than $14 and their survival rate was:  0.3626373626373626\n",
      "there were  60  2nd class passengers who paid between $14 and $30, their survival rate was:  0.5833333333333334\n",
      "there were 33  2nd class passengers who paid more than $30 and their survival rate was:  0.5757575757575758\n",
      "-------------------------------------------------------------------------\n",
      "there were  229  3rd class passengers who paid less than $8 and their survival rate was:  0.22707423580786026\n",
      "there were  109  3rd class passengers who paid between $8 and $13, their survival rate was:  0.22935779816513763\n",
      "there were 153  3rd class passengers who paid more than $13 and their survival rate was:  0.27450980392156865\n"
     ]
    }
   ],
   "source": [
    "print(train_data[['Fare','Pclass','Survived']].groupby(['Pclass']).mean())\n",
    "low_1 = train_data[(train_data['Fare'] <40)&(train_data['Pclass']==1)]\n",
    "med_1 = train_data[(train_data[\"Fare\"]>=40)&(train_data[\"Fare\"]<80)&(train_data['Pclass']==1)]\n",
    "high_1 = train_data[(train_data['Fare'] >= 80)&(train_data['Pclass']==1)]\n",
    "\n",
    "print('there were ',low_1['Survived'].count(), ' 1st class passengers who paid less than $40 and their survival rate was: '\\\n",
    "      ,low_1['Survived'].mean())\n",
    "print('there were ',med_1['Survived'].count(), ' 1st class passengers who paid between $40 and $80, their survival rate was: '\\\n",
    "      ,med_1['Survived'].mean())\n",
    "print('there were',high_1['Survived'].count(), ' 1st class passengers who paid more than $80 and their survival rate was: '\\\n",
    "      ,high_1['Survived'].mean())\n",
    "print('-------------------------------------------------------------------------')\n",
    "\n",
    "low_2 = train_data[(train_data['Fare'] <14)&(train_data['Pclass']==2)]\n",
    "med_2 = train_data[(train_data[\"Fare\"]>=14)&(train_data[\"Fare\"]<27)&(train_data['Pclass']==2)]\n",
    "high_2 = train_data[(train_data['Fare'] >= 27)&(train_data['Pclass']==2)]\n",
    "\n",
    "print('there were ',low_2['Survived'].count(), ' 2nd class passengers who paid less than $14 and their survival rate was: '\\\n",
    "      ,low_2['Survived'].mean())\n",
    "print('there were ',med_2['Survived'].count(), ' 2nd class passengers who paid between $14 and $30, their survival rate was: '\\\n",
    "      ,med_2['Survived'].mean())\n",
    "print('there were',high_2['Survived'].count(), ' 2nd class passengers who paid more than $30 and their survival rate was: '\\\n",
    "      ,high_2['Survived'].mean())\n",
    "print('-------------------------------------------------------------------------')\n",
    "\n",
    "low_3 = train_data[(train_data['Fare'] <8)&(train_data['Pclass']==3)]\n",
    "med_3 = train_data[(train_data[\"Fare\"]>=8)&(train_data[\"Fare\"]<13)&(train_data['Pclass']==3)]\n",
    "high_3 = train_data[(train_data['Fare'] >= 13)&(train_data['Pclass']==3)]\n",
    "\n",
    "print('there were ',low_3['Survived'].count(), ' 3rd class passengers who paid less than $8 and their survival rate was: '\\\n",
    "      ,low_3['Survived'].mean())\n",
    "print('there were ',med_3['Survived'].count(), ' 3rd class passengers who paid between $8 and $13, their survival rate was: '\\\n",
    "      ,med_3['Survived'].mean())\n",
    "print('there were',high_3['Survived'].count(), ' 3rd class passengers who paid more than $13 and their survival rate was: '\\\n",
    "      ,high_3['Survived'].mean())"
   ]
  },
  {
   "cell_type": "markdown",
   "id": "34d431c7",
   "metadata": {
    "papermill": {
     "duration": 0.058269,
     "end_time": "2022-04-21T23:19:23.373026",
     "exception": false,
     "start_time": "2022-04-21T23:19:23.314757",
     "status": "completed"
    },
    "tags": []
   },
   "source": [
    "We can see that even within each ticket class, passengers that paid more were more likely to survive. this effect was most pronounced amongst 1st and 2nd class passengers"
   ]
  },
  {
   "cell_type": "markdown",
   "id": "ce66eef5",
   "metadata": {
    "papermill": {
     "duration": 0.057506,
     "end_time": "2022-04-21T23:19:23.490013",
     "exception": false,
     "start_time": "2022-04-21T23:19:23.432507",
     "status": "completed"
    },
    "tags": []
   },
   "source": [
    "**Does age make a difference?**"
   ]
  },
  {
   "cell_type": "code",
   "execution_count": 11,
   "id": "bbb44a1f",
   "metadata": {
    "execution": {
     "iopub.execute_input": "2022-04-21T23:19:23.609693Z",
     "iopub.status.busy": "2022-04-21T23:19:23.608695Z",
     "iopub.status.idle": "2022-04-21T23:19:24.992427Z",
     "shell.execute_reply": "2022-04-21T23:19:24.991858Z",
     "shell.execute_reply.started": "2022-04-21T22:21:18.787042Z"
    },
    "papermill": {
     "duration": 1.444477,
     "end_time": "2022-04-21T23:19:24.992618",
     "exception": false,
     "start_time": "2022-04-21T23:19:23.548141",
     "status": "completed"
    },
    "tags": []
   },
   "outputs": [
    {
     "data": {
      "text/plain": [
       "Text(0.5, 1.0, 'Survival by Age')"
      ]
     },
     "execution_count": 11,
     "metadata": {},
     "output_type": "execute_result"
    },
    {
     "data": {
      "image/png": "[encoded data removed]",
      "text/plain": [
       "<Figure size 1080x360 with 3 Axes>"
      ]
     },
     "metadata": {},
     "output_type": "display_data"
    }
   ],
   "source": [
    "# taking a look at the age distribution \n",
    "fix, ax = plt.subplots(1,3,figsize = (15,5), sharex = True)\n",
    "sns.histplot(ax = ax[0], x = 'Age', bins = 20, kde = True, hue = 'Pclass', data = train_data)\n",
    "sns.histplot(ax = ax[1], x = 'Age', bins = 20, kde = True, hue = 'Sex', data = train_data)\n",
    "sns.histplot(ax = ax[2], x = 'Age', bins = 40, kde = True, hue = 'Survived', data = train_data)\n",
    "ax[0].set_title('Ticket Class by Age')\n",
    "ax[1].set_title('Sex by Age')\n",
    "ax[2].set_title('Survival by Age')"
   ]
  },
  {
   "cell_type": "markdown",
   "id": "36a4ea0b",
   "metadata": {
    "papermill": {
     "duration": 0.066566,
     "end_time": "2022-04-21T23:19:25.118034",
     "exception": false,
     "start_time": "2022-04-21T23:19:25.051468",
     "status": "completed"
    },
    "tags": []
   },
   "source": [
    "- we can see that the age distribution is different by ticket class with 3rd class being the youngest and 1st class being the oldest\n",
    "- we can see that the age distribution of men and women is very similar but with men being very slightly older on average\n",
    "- we can see that survival rate was very different for different age groups. children under 6 had a relatively high survival rate, where as people ages 16-25 had a much poorer survival rate. "
   ]
  },
  {
   "cell_type": "code",
   "execution_count": 12,
   "id": "cb4c98cd",
   "metadata": {
    "execution": {
     "iopub.execute_input": "2022-04-21T23:19:25.269745Z",
     "iopub.status.busy": "2022-04-21T23:19:25.267209Z",
     "iopub.status.idle": "2022-04-21T23:19:25.283817Z",
     "shell.execute_reply": "2022-04-21T23:19:25.284342Z",
     "shell.execute_reply.started": "2022-04-21T22:21:19.949971Z"
    },
    "papermill": {
     "duration": 0.087835,
     "end_time": "2022-04-21T23:19:25.284548",
     "exception": false,
     "start_time": "2022-04-21T23:19:25.196713",
     "status": "completed"
    },
    "tags": []
   },
   "outputs": [
    {
     "name": "stdout",
     "output_type": "stream",
     "text": [
      "the average age by ticket class:\n",
      "Pclass  Sex   \n",
      "1       female    34.611765\n",
      "        male      41.281386\n",
      "2       female    28.722973\n",
      "        male      30.740707\n",
      "3       female    21.750000\n",
      "        male      26.507589\n",
      "Name: Age, dtype: float64\n",
      "-----------------------------------------------\n"
     ]
    }
   ],
   "source": [
    "# lets try imputing our missing values for age\n",
    "print('the average age by ticket class:')\n",
    "print(train_data.groupby(['Pclass','Sex'])['Age'].mean())\n",
    "print('-----------------------------------------------')\n",
    "train_data.loc[ (train_data['Pclass'] == 1) & (train_data['Age'].isnull()), 'Age'] = 38\n",
    "test_data.loc[ (test_data['Pclass'] == 1) & (test_data['Age'].isnull()), 'Age'] = 38\n",
    "train_data.loc[ (train_data['Pclass'] == 1) & (train_data['Age'].isnull()), 'Age'] = 38\n",
    "test_data.loc[ (test_data['Pclass'] == 1) & (test_data['Age'].isnull()), 'Age'] = 38\n",
    "\n",
    "\n",
    "\n",
    "train_data.loc[ (train_data['Pclass'] == 2) & (train_data['Age'].isnull()), 'Age'] = 30\n",
    "test_data.loc[ (test_data['Pclass'] == 2) & (test_data['Age'].isnull()), 'Age'] = 30\n",
    "train_data.loc[ (train_data['Pclass'] == 3) & (train_data['Age'].isnull()), 'Age'] = 25\n",
    "test_data.loc[ (test_data['Pclass'] == 3) & (test_data['Age'].isnull()), 'Age'] = 25"
   ]
  },
  {
   "cell_type": "code",
   "execution_count": 13,
   "id": "b922cf56",
   "metadata": {
    "execution": {
     "iopub.execute_input": "2022-04-21T23:19:25.409972Z",
     "iopub.status.busy": "2022-04-21T23:19:25.409203Z",
     "iopub.status.idle": "2022-04-21T23:19:25.825796Z",
     "shell.execute_reply": "2022-04-21T23:19:25.826299Z",
     "shell.execute_reply.started": "2022-04-21T23:18:17.718521Z"
    },
    "papermill": {
     "duration": 0.482289,
     "end_time": "2022-04-21T23:19:25.826520",
     "exception": false,
     "start_time": "2022-04-21T23:19:25.344231",
     "status": "completed"
    },
    "tags": []
   },
   "outputs": [
    {
     "data": {
      "text/plain": [
       "([<matplotlib.axis.XTick at 0x7feb683ba510>,\n",
       "  <matplotlib.axis.XTick at 0x7feb683ba2d0>,\n",
       "  <matplotlib.axis.XTick at 0x7feb68312c90>,\n",
       "  <matplotlib.axis.XTick at 0x7feb68334990>,\n",
       "  <matplotlib.axis.XTick at 0x7feb68341090>,\n",
       "  <matplotlib.axis.XTick at 0x7feb68341150>,\n",
       "  <matplotlib.axis.XTick at 0x7feb68341990>,\n",
       "  <matplotlib.axis.XTick at 0x7feb68341710>],\n",
       " [Text(0, 0, '0-6'),\n",
       "  Text(1, 0, '7-10'),\n",
       "  Text(2, 0, '11-15'),\n",
       "  Text(3, 0, '16-25'),\n",
       "  Text(4, 0, '26-33'),\n",
       "  Text(5, 0, '34-46'),\n",
       "  Text(6, 0, '47-55'),\n",
       "  Text(7, 0, 'over 55')])"
      ]
     },
     "execution_count": 13,
     "metadata": {},
     "output_type": "execute_result"
    },
    {
     "data": {
      "image/png": "[encoded data removed]",
      "text/plain": [
       "<Figure size 1080x432 with 1 Axes>"
      ]
     },
     "metadata": {},
     "output_type": "display_data"
    }
   ],
   "source": [
    "# we notice that different age groups have different odds of survival, so lets create some age bands\n",
    "train_data.loc[ train_data['Age'] <= 6, 'Age_band'] = 0\n",
    "train_data.loc[(train_data['Age'] > 6) & (train_data['Age'] <= 10), 'Age_band'] = 1\n",
    "train_data.loc[(train_data['Age'] > 10) & (train_data['Age'] <= 15), 'Age_band'] = 2\n",
    "train_data.loc[(train_data['Age'] > 15) & (train_data['Age'] <= 25), 'Age_band'] = 3\n",
    "train_data.loc[(train_data['Age'] > 25) & (train_data['Age'] <= 33), 'Age_band'] = 4\n",
    "train_data.loc[(train_data['Age'] > 33) & (train_data['Age'] <= 46), 'Age_band'] = 5\n",
    "train_data.loc[(train_data['Age'] > 46) & (train_data['Age'] <= 55), 'Age_band'] = 6\n",
    "train_data.loc[(train_data['Age'] > 55), 'Age_band'] = 7\n",
    "\n",
    "test_data.loc[ test_data['Age'] <= 6, 'Age_band'] = 0\n",
    "test_data.loc[(test_data['Age'] > 6) & (test_data['Age'] <= 10), 'Age_band'] = 1\n",
    "test_data.loc[(test_data['Age'] > 10) & (test_data['Age'] <= 15), 'Age_band'] = 2\n",
    "test_data.loc[(test_data['Age'] > 15) & (test_data['Age'] <= 25), 'Age_band'] = 3\n",
    "test_data.loc[(test_data['Age'] > 25) & (test_data['Age'] <= 33), 'Age_band'] = 4\n",
    "test_data.loc[(test_data['Age'] > 33) & (test_data['Age'] <= 46), 'Age_band'] = 5\n",
    "test_data.loc[(test_data['Age'] > 46) & (test_data['Age'] <= 55), 'Age_band'] = 6\n",
    "test_data.loc[(test_data['Age'] > 55), 'Age_band'] = 7\n",
    "\n",
    "sns.histplot( x = 'Age_band', bins = 8, kde = True, hue = 'Survived', data = train_data, discrete = True).set(title='Servival By Age Band')\n",
    "plt.xticks([0,1,2,3,4,5,6,7],['0-6','7-10','11-15','16-25','26-33','34-46','47-55','over 55'])"
   ]
  },
  {
   "cell_type": "markdown",
   "id": "a5b7d95f",
   "metadata": {
    "papermill": {
     "duration": 0.061397,
     "end_time": "2022-04-21T23:19:25.950028",
     "exception": false,
     "start_time": "2022-04-21T23:19:25.888631",
     "status": "completed"
    },
    "tags": []
   },
   "source": [
    "we can see that the survival rates of different age bands looks very different. this will likely be a better predictor than age which may contain too much noise to be useful. "
   ]
  },
  {
   "cell_type": "markdown",
   "id": "8e372059",
   "metadata": {
    "papermill": {
     "duration": 0.062693,
     "end_time": "2022-04-21T23:19:26.075374",
     "exception": false,
     "start_time": "2022-04-21T23:19:26.012681",
     "status": "completed"
    },
    "tags": []
   },
   "source": [
    "**Did having family members on board help?** "
   ]
  },
  {
   "cell_type": "code",
   "execution_count": 14,
   "id": "ab17b48a",
   "metadata": {
    "execution": {
     "iopub.execute_input": "2022-04-21T23:19:26.203350Z",
     "iopub.status.busy": "2022-04-21T23:19:26.202558Z",
     "iopub.status.idle": "2022-04-21T23:19:27.407182Z",
     "shell.execute_reply": "2022-04-21T23:19:27.406469Z",
     "shell.execute_reply.started": "2022-04-21T22:21:20.378471Z"
    },
    "papermill": {
     "duration": 1.269852,
     "end_time": "2022-04-21T23:19:27.407343",
     "exception": false,
     "start_time": "2022-04-21T23:19:26.137491",
     "status": "completed"
    },
    "tags": []
   },
   "outputs": [
    {
     "data": {
      "text/plain": [
       "<AxesSubplot:xlabel='Parch', ylabel='Count'>"
      ]
     },
     "execution_count": 14,
     "metadata": {},
     "output_type": "execute_result"
    },
    {
     "data": {
      "image/png": "[encoded data removed]",
      "text/plain": [
       "<Figure size 1080x360 with 4 Axes>"
      ]
     },
     "metadata": {},
     "output_type": "display_data"
    }
   ],
   "source": [
    "# did having family members on board increase your odds of survival\n",
    "fix, ax = plt.subplots(2,2,figsize = (15,5), sharex = True)\n",
    "sns.histplot(ax = ax[0][0],x = 'SibSp', bins = 8, data = train_data, hue = 'Survived')\n",
    "sns.histplot(ax = ax[0][1],x = 'Parch', bins = 8, data = train_data, hue = 'Survived')\n",
    "# was family size influenced by ticket class\n",
    "sns.histplot(ax = ax[1][0],x = 'SibSp', bins = 8, data = train_data, hue = 'Pclass', multiple=\"stack\")\n",
    "sns.histplot(ax = ax[1][1],x = 'Parch', bins = 8, data = train_data, hue = 'Pclass', multiple=\"stack\")"
   ]
  },
  {
   "cell_type": "markdown",
   "id": "84d936e8",
   "metadata": {
    "papermill": {
     "duration": 0.065534,
     "end_time": "2022-04-21T23:19:27.540702",
     "exception": false,
     "start_time": "2022-04-21T23:19:27.475168",
     "status": "completed"
    },
    "tags": []
   },
   "source": [
    "it appears that 1st class passengers were more likely to be traveling with a single sibling or spouse. \n",
    "It also appears that having a family member or two on board increased your chances of survival, lets create a new feature to track total number of family members on board "
   ]
  },
  {
   "cell_type": "code",
   "execution_count": 15,
   "id": "319ef3c7",
   "metadata": {
    "execution": {
     "iopub.execute_input": "2022-04-21T23:19:27.678051Z",
     "iopub.status.busy": "2022-04-21T23:19:27.677253Z",
     "iopub.status.idle": "2022-04-21T23:19:28.445047Z",
     "shell.execute_reply": "2022-04-21T23:19:28.444333Z",
     "shell.execute_reply.started": "2022-04-21T22:21:21.477692Z"
    },
    "papermill": {
     "duration": 0.837933,
     "end_time": "2022-04-21T23:19:28.445218",
     "exception": false,
     "start_time": "2022-04-21T23:19:27.607285",
     "status": "completed"
    },
    "tags": []
   },
   "outputs": [
    {
     "name": "stdout",
     "output_type": "stream",
     "text": [
      "The max number of family members on board was:  10\n"
     ]
    },
    {
     "data": {
      "text/plain": [
       "<AxesSubplot:xlabel='Fmembers', ylabel='Count'>"
      ]
     },
     "execution_count": 15,
     "metadata": {},
     "output_type": "execute_result"
    },
    {
     "data": {
      "image/png": "[encoded data removed]",
      "text/plain": [
       "<Figure size 1080x360 with 2 Axes>"
      ]
     },
     "metadata": {},
     "output_type": "display_data"
    }
   ],
   "source": [
    "# create a new column for total number of family members on board and see if this impacts survival for each Pclass\n",
    "train_data['Fmembers']= train_data['Parch']+train_data['SibSp']\n",
    "test_data['Fmembers']= test_data['Parch']+test_data['SibSp']\n",
    "print('The max number of family members on board was: ', max(train_data['Fmembers']))\n",
    "fix, ax = plt.subplots(1,2,figsize = (15,5), sharex = True)\n",
    "sns.histplot(ax = ax[0],x = 'Fmembers', bins = 11, data = train_data, hue = 'Pclass', multiple=\"stack\")\n",
    "sns.histplot(ax = ax[1],x = 'Fmembers', bins = 11, data = train_data, hue = 'Survived')"
   ]
  },
  {
   "cell_type": "markdown",
   "id": "4b85ebe7",
   "metadata": {
    "papermill": {
     "duration": 0.065185,
     "end_time": "2022-04-21T23:19:28.576884",
     "exception": false,
     "start_time": "2022-04-21T23:19:28.511699",
     "status": "completed"
    },
    "tags": []
   },
   "source": [
    "it appears that your odds of survival were better than 50/50 if you had between 1 and 3 family members on board with you. "
   ]
  },
  {
   "cell_type": "markdown",
   "id": "950502ee",
   "metadata": {
    "papermill": {
     "duration": 0.065252,
     "end_time": "2022-04-21T23:19:28.707316",
     "exception": false,
     "start_time": "2022-04-21T23:19:28.642064",
     "status": "completed"
    },
    "tags": []
   },
   "source": [
    "**does embarkation port make a difference?**"
   ]
  },
  {
   "cell_type": "code",
   "execution_count": 16,
   "id": "cdd73086",
   "metadata": {
    "execution": {
     "iopub.execute_input": "2022-04-21T23:19:28.888517Z",
     "iopub.status.busy": "2022-04-21T23:19:28.885750Z",
     "iopub.status.idle": "2022-04-21T23:19:29.367232Z",
     "shell.execute_reply": "2022-04-21T23:19:29.367865Z",
     "shell.execute_reply.started": "2022-04-21T22:21:22.124885Z"
    },
    "papermill": {
     "duration": 0.594488,
     "end_time": "2022-04-21T23:19:29.368117",
     "exception": false,
     "start_time": "2022-04-21T23:19:28.773629",
     "status": "completed"
    },
    "tags": []
   },
   "outputs": [
    {
     "data": {
      "text/plain": [
       "<AxesSubplot:xlabel='Embarked', ylabel='Count'>"
      ]
     },
     "execution_count": 16,
     "metadata": {},
     "output_type": "execute_result"
    },
    {
     "data": {
      "image/png": "[encoded data removed]",
      "text/plain": [
       "<Figure size 1080x360 with 2 Axes>"
      ]
     },
     "metadata": {},
     "output_type": "display_data"
    }
   ],
   "source": [
    "# did embarkation port make a difference?\n",
    "fix, ax = plt.subplots(1,2,figsize = (15,5), sharex = True)\n",
    "sns.histplot(ax = ax[0],x = 'Embarked', bins = 3, data = train_data, hue = 'Survived')\n",
    "sns.histplot(ax = ax[1],x = 'Embarked', bins = 3, data = train_data, hue = 'Pclass', multiple=\"stack\")\n",
    "# we can see that people embarking at C were most likely to survive... but where also most likely to be 1st class"
   ]
  },
  {
   "cell_type": "markdown",
   "id": "ba1fa782",
   "metadata": {
    "papermill": {
     "duration": 0.06676,
     "end_time": "2022-04-21T23:19:29.501548",
     "exception": false,
     "start_time": "2022-04-21T23:19:29.434788",
     "status": "completed"
    },
    "tags": []
   },
   "source": [
    "the survival rate for passengers from C is quite high while that of S is quite low. We notice that the survival rate is similar to the proportion of higher class ticket holders embarking from each port. We also notice that at port Q, only 3rd class passengers boardded, but that their survival rate was higher than 3rd class passengers overall making 'embarked' a valueble feature to include. "
   ]
  },
  {
   "cell_type": "code",
   "execution_count": 17,
   "id": "ca56b984",
   "metadata": {
    "execution": {
     "iopub.execute_input": "2022-04-21T23:19:29.648390Z",
     "iopub.status.busy": "2022-04-21T23:19:29.647254Z",
     "iopub.status.idle": "2022-04-21T23:19:29.663353Z",
     "shell.execute_reply": "2022-04-21T23:19:29.663993Z",
     "shell.execute_reply.started": "2022-04-21T22:21:22.592250Z"
    },
    "papermill": {
     "duration": 0.095853,
     "end_time": "2022-04-21T23:19:29.664210",
     "exception": false,
     "start_time": "2022-04-21T23:19:29.568357",
     "status": "completed"
    },
    "tags": []
   },
   "outputs": [
    {
     "name": "stdout",
     "output_type": "stream",
     "text": [
      "PassengerId    0\n",
      "Survived       0\n",
      "Pclass         0\n",
      "Name           0\n",
      "Sex            0\n",
      "Age            0\n",
      "SibSp          0\n",
      "Parch          0\n",
      "Ticket         0\n",
      "Fare           0\n",
      "Embarked       0\n",
      "isMale         0\n",
      "Embarked_C     0\n",
      "Embarked_Q     0\n",
      "Embarked_S     0\n",
      "Age_band       0\n",
      "Fmembers       0\n",
      "dtype: int64\n",
      "PassengerId    0\n",
      "Pclass         0\n",
      "Name           0\n",
      "Sex            0\n",
      "Age            0\n",
      "SibSp          0\n",
      "Parch          0\n",
      "Ticket         0\n",
      "Fare           1\n",
      "Embarked       0\n",
      "isMale         0\n",
      "Embarked_C     0\n",
      "Embarked_Q     0\n",
      "Embarked_S     0\n",
      "Age_band       0\n",
      "Fmembers       0\n",
      "dtype: int64\n",
      "PassengerId    0\n",
      "Pclass         0\n",
      "Name           0\n",
      "Sex            0\n",
      "Age            0\n",
      "SibSp          0\n",
      "Parch          0\n",
      "Ticket         0\n",
      "Fare           0\n",
      "Embarked       0\n",
      "isMale         0\n",
      "Embarked_C     0\n",
      "Embarked_Q     0\n",
      "Embarked_S     0\n",
      "Age_band       0\n",
      "Fmembers       0\n",
      "dtype: int64\n"
     ]
    }
   ],
   "source": [
    "# drop cabin as so many are missing, and double check to make sure there are no other missing values\n",
    "train_data= train_data.drop('Cabin', axis = 1)\n",
    "test_data= test_data.drop('Cabin', axis = 1)\n",
    "print(train_data.isnull().sum())\n",
    "print(test_data.isnull().sum())\n",
    "\n",
    "# missing one passengers 'Fare'  we will replace with the average for their ticker class. \n",
    "test_data['Fare'].fillna(test_data[test_data['Pclass']==3]['Fare'].mean(), inplace = True)\n",
    "print(test_data.isnull().sum())"
   ]
  },
  {
   "cell_type": "markdown",
   "id": "5e79be3a",
   "metadata": {
    "papermill": {
     "duration": 0.067176,
     "end_time": "2022-04-21T23:19:29.800379",
     "exception": false,
     "start_time": "2022-04-21T23:19:29.733203",
     "status": "completed"
    },
    "tags": []
   },
   "source": [
    "**Predictive models**"
   ]
  },
  {
   "cell_type": "markdown",
   "id": "48dddc12",
   "metadata": {
    "papermill": {
     "duration": 0.06845,
     "end_time": "2022-04-21T23:19:29.936048",
     "exception": false,
     "start_time": "2022-04-21T23:19:29.867598",
     "status": "completed"
    },
    "tags": []
   },
   "source": [
    " as features, I have elected to use sex, class, fare, age, family members and embarkation port. \n",
    " the last feature I did not intend to use as I thought it would be too closely correlated with class, but including it\n",
    " increased my model accuracy."
   ]
  },
  {
   "cell_type": "code",
   "execution_count": 18,
   "id": "bbf16d13",
   "metadata": {
    "execution": {
     "iopub.execute_input": "2022-04-21T23:19:30.086991Z",
     "iopub.status.busy": "2022-04-21T23:19:30.086250Z",
     "iopub.status.idle": "2022-04-21T23:19:30.105450Z",
     "shell.execute_reply": "2022-04-21T23:19:30.104818Z",
     "shell.execute_reply.started": "2022-04-21T22:21:22.613668Z"
    },
    "papermill": {
     "duration": 0.099818,
     "end_time": "2022-04-21T23:19:30.105661",
     "exception": false,
     "start_time": "2022-04-21T23:19:30.005843",
     "status": "completed"
    },
    "tags": []
   },
   "outputs": [
    {
     "name": "stdout",
     "output_type": "stream",
     "text": [
      "   isMale  Pclass  Age_band  Fmembers     Fare  Embarked_C  Embarked_Q  \\\n",
      "0       1       3       3.0         1   7.2500           0           0   \n",
      "1       0       1       5.0         1  71.2833           1           0   \n",
      "2       0       3       4.0         0   7.9250           0           0   \n",
      "3       0       1       5.0         1  53.1000           0           0   \n",
      "4       1       3       5.0         0   8.0500           0           0   \n",
      "\n",
      "   Embarked_S  \n",
      "0           1  \n",
      "1           0  \n",
      "2           1  \n",
      "3           1  \n",
      "4           1  \n",
      "   isMale  Pclass  Age_band  Fmembers     Fare  Embarked_C  Embarked_Q  \\\n",
      "0       1       3       5.0         0   7.8292           0           1   \n",
      "1       0       3       6.0         1   7.0000           0           0   \n",
      "2       1       2       7.0         0   9.6875           0           1   \n",
      "3       1       3       4.0         0   8.6625           0           0   \n",
      "4       0       3       3.0         2  12.2875           0           0   \n",
      "\n",
      "   Embarked_S  \n",
      "0           0  \n",
      "1           1  \n",
      "2           0  \n",
      "3           1  \n",
      "4           1  \n"
     ]
    }
   ],
   "source": [
    "# create target column, select features, and make dummy variables where needed.  \n",
    "y= train_data['Survived']\n",
    "\n",
    "features = ['isMale', 'Pclass', 'Age_band','Fmembers', 'Embarked', 'Fare']\n",
    "X = pd.get_dummies(train_data[features])\n",
    "print(X.head())\n",
    "X_test = pd.get_dummies(test_data[features])\n",
    "print(X_test.head())"
   ]
  },
  {
   "cell_type": "markdown",
   "id": "6a46d599",
   "metadata": {
    "papermill": {
     "duration": 0.069063,
     "end_time": "2022-04-21T23:19:30.244700",
     "exception": false,
     "start_time": "2022-04-21T23:19:30.175637",
     "status": "completed"
    },
    "tags": []
   },
   "source": [
    "we will start out with a logistic regression model. we will use gridsearch CV for hyperperameter tuning, but will comment this out after I run it for computational efficiency. "
   ]
  },
  {
   "cell_type": "code",
   "execution_count": 19,
   "id": "b5d96891",
   "metadata": {
    "execution": {
     "iopub.execute_input": "2022-04-21T23:19:30.395121Z",
     "iopub.status.busy": "2022-04-21T23:19:30.394089Z",
     "iopub.status.idle": "2022-04-21T23:19:30.448423Z",
     "shell.execute_reply": "2022-04-21T23:19:30.449073Z",
     "shell.execute_reply.started": "2022-04-21T22:21:22.642056Z"
    },
    "papermill": {
     "duration": 0.134349,
     "end_time": "2022-04-21T23:19:30.449267",
     "exception": false,
     "start_time": "2022-04-21T23:19:30.314918",
     "status": "completed"
    },
    "tags": []
   },
   "outputs": [
    {
     "name": "stdout",
     "output_type": "stream",
     "text": [
      "accuracy score: 80.47\n",
      "[0.77653631 0.8258427  0.79775281 0.79213483 0.82022472]\n"
     ]
    },
    {
     "data": {
      "text/plain": [
       "0.8024982738057875"
      ]
     },
     "execution_count": 19,
     "metadata": {},
     "output_type": "execute_result"
    }
   ],
   "source": [
    "\n",
    "logreg = LogisticRegression()\n",
    "\n",
    "# params = [{'solver': ['liblinear', 'saga'],\n",
    "#         'penalty': ['none','l1', 'l2', 'elasticnet'],\n",
    "#          'C': [100, 10, 1.0, 0.1, 0.01]}]\n",
    "# gs_logreg = GridSearchCV(logreg,\n",
    "#                       param_grid=params,\n",
    "#                       scoring='accuracy',\n",
    "#                       cv=5)\n",
    "# gs_logreg.fit(X, y)\n",
    "# print('best params' , gs_logreg.best_params_)\n",
    "\n",
    "# logreg.fit(X,y)\n",
    "# logred_pred = logreg.predict(X_test)\n",
    "# scores = cross_val_score(logreg, X, y, cv=5)\n",
    "# print('accuracy score:' , round(logreg.score(X, y) * 100, 2))\n",
    "# print(scores)\n",
    "# print(scores.mean())\n",
    "\n",
    "logreg = LogisticRegression(C = 10, penalty = 'l2', solver= 'liblinear')\n",
    "logreg.fit(X,y)\n",
    "logred_pred = logreg.predict(X_test)\n",
    "scores = cross_val_score(logreg, X, y, cv=5)\n",
    "print('accuracy score:' , round(logreg.score(X, y) * 100, 2))\n",
    "print(scores)\n",
    "scores.mean()"
   ]
  },
  {
   "cell_type": "markdown",
   "id": "fb236e17",
   "metadata": {
    "papermill": {
     "duration": 0.067679,
     "end_time": "2022-04-21T23:19:30.587034",
     "exception": false,
     "start_time": "2022-04-21T23:19:30.519355",
     "status": "completed"
    },
    "tags": []
   },
   "source": [
    "we can see that the accuracy and 5 fold validation score are both around 80%, which is an imporovement over our 62% baseline attained from guessing all parished."
   ]
  },
  {
   "cell_type": "code",
   "execution_count": 20,
   "id": "637171f8",
   "metadata": {
    "execution": {
     "iopub.execute_input": "2022-04-21T23:19:30.736148Z",
     "iopub.status.busy": "2022-04-21T23:19:30.735154Z",
     "iopub.status.idle": "2022-04-21T23:19:30.738906Z",
     "shell.execute_reply": "2022-04-21T23:19:30.739393Z",
     "shell.execute_reply.started": "2022-04-21T22:21:22.698232Z"
    },
    "papermill": {
     "duration": 0.083377,
     "end_time": "2022-04-21T23:19:30.739620",
     "exception": false,
     "start_time": "2022-04-21T23:19:30.656243",
     "status": "completed"
    },
    "tags": []
   },
   "outputs": [
    {
     "data": {
      "text/html": [
       "<div>\n",
       "<style scoped>\n",
       "    .dataframe tbody tr th:only-of-type {\n",
       "        vertical-align: middle;\n",
       "    }\n",
       "\n",
       "    .dataframe tbody tr th {\n",
       "        vertical-align: top;\n",
       "    }\n",
       "\n",
       "    .dataframe thead th {\n",
       "        text-align: right;\n",
       "    }\n",
       "</style>\n",
       "<table border=\"1\" class=\"dataframe\">\n",
       "  <thead>\n",
       "    <tr style=\"text-align: right;\">\n",
       "      <th></th>\n",
       "      <th>coef</th>\n",
       "    </tr>\n",
       "  </thead>\n",
       "  <tbody>\n",
       "    <tr>\n",
       "      <th>isMale</th>\n",
       "      <td>-2.742358</td>\n",
       "    </tr>\n",
       "    <tr>\n",
       "      <th>Pclass</th>\n",
       "      <td>-1.155372</td>\n",
       "    </tr>\n",
       "    <tr>\n",
       "      <th>Age_band</th>\n",
       "      <td>-0.381992</td>\n",
       "    </tr>\n",
       "    <tr>\n",
       "      <th>Fmembers</th>\n",
       "      <td>-0.260242</td>\n",
       "    </tr>\n",
       "    <tr>\n",
       "      <th>Fare</th>\n",
       "      <td>0.002530</td>\n",
       "    </tr>\n",
       "    <tr>\n",
       "      <th>Embarked_S</th>\n",
       "      <td>1.191800</td>\n",
       "    </tr>\n",
       "    <tr>\n",
       "      <th>Embarked_Q</th>\n",
       "      <td>1.364038</td>\n",
       "    </tr>\n",
       "    <tr>\n",
       "      <th>Embarked_C</th>\n",
       "      <td>1.559418</td>\n",
       "    </tr>\n",
       "  </tbody>\n",
       "</table>\n",
       "</div>"
      ],
      "text/plain": [
       "                coef\n",
       "isMale     -2.742358\n",
       "Pclass     -1.155372\n",
       "Age_band   -0.381992\n",
       "Fmembers   -0.260242\n",
       "Fare        0.002530\n",
       "Embarked_S  1.191800\n",
       "Embarked_Q  1.364038\n",
       "Embarked_C  1.559418"
      ]
     },
     "execution_count": 20,
     "metadata": {},
     "output_type": "execute_result"
    }
   ],
   "source": [
    "# find correlation coefficients using the logistic regression            \n",
    "pd.DataFrame(logreg.coef_[0], X.columns, columns=['coef']).sort_values(by='coef', ascending=True)"
   ]
  },
  {
   "cell_type": "markdown",
   "id": "061bcfc6",
   "metadata": {
    "papermill": {
     "duration": 0.06884,
     "end_time": "2022-04-21T23:19:30.877527",
     "exception": false,
     "start_time": "2022-04-21T23:19:30.808687",
     "status": "completed"
    },
    "tags": []
   },
   "source": [
    "we can see that fare is the perameter which is the least strongly correlated with an outcome. "
   ]
  },
  {
   "cell_type": "markdown",
   "id": "eb562162",
   "metadata": {
    "papermill": {
     "duration": 0.068734,
     "end_time": "2022-04-21T23:19:31.015898",
     "exception": false,
     "start_time": "2022-04-21T23:19:30.947164",
     "status": "completed"
    },
    "tags": []
   },
   "source": [
    "next, we will train a random forest classifier. during hypertuning of perameters, we found that including all 7 features (including fare) we got the best results, so I chose not to remove this from the list of features used. "
   ]
  },
  {
   "cell_type": "code",
   "execution_count": 21,
   "id": "8610246c",
   "metadata": {
    "execution": {
     "iopub.execute_input": "2022-04-21T23:19:31.159686Z",
     "iopub.status.busy": "2022-04-21T23:19:31.158917Z",
     "iopub.status.idle": "2022-04-21T23:19:32.492605Z",
     "shell.execute_reply": "2022-04-21T23:19:32.491831Z",
     "shell.execute_reply.started": "2022-04-21T22:21:22.711324Z"
    },
    "papermill": {
     "duration": 1.407748,
     "end_time": "2022-04-21T23:19:32.492816",
     "exception": false,
     "start_time": "2022-04-21T23:19:31.085068",
     "status": "completed"
    },
    "tags": []
   },
   "outputs": [
    {
     "name": "stdout",
     "output_type": "stream",
     "text": [
      "accuracy score: 83.61\n",
      "[0.82122905 0.80898876 0.82022472 0.79213483 0.85393258]\n"
     ]
    },
    {
     "data": {
      "text/plain": [
       "0.8193019898311469"
      ]
     },
     "execution_count": 21,
     "metadata": {},
     "output_type": "execute_result"
    }
   ],
   "source": [
    "RandFor = RandomForestClassifier(n_estimators=100, max_depth=5, random_state=1)\n",
    "\n",
    "# params = [{'max_features': [4,5,6,7,8],\n",
    "#          'n_estimators': [10,20,30,50],\n",
    "#           'max_depth' : [3,4,5,6,8]}]\n",
    "# gs_RandFor = GridSearchCV(RandFor,\n",
    "#                       param_grid=params,\n",
    "#                       scoring='accuracy',\n",
    "#                       cv=5)\n",
    "\n",
    "# gs_RandFor.fit(X, y)\n",
    "# print('best params' , gs_RandFor.best_params_)\n",
    "\n",
    "# RandFor.fit(X,y)\n",
    "# RandFor_pred = RandFor.predict(X_test)\n",
    "# print('accuracy score:' , round(knn.score(X_norm, y) * 100, 2))\n",
    "# scores = cross_val_score(RandFor, X, y, cv=5)\n",
    "# print(scores)\n",
    "# print(scores.mean())\n",
    "\n",
    "RandFor = RandomForestClassifier(max_depth = 4, max_features= 7, n_estimators= 100)\n",
    "RandFor.fit(X,y)\n",
    "RandFor_pred = RandFor.predict(X_test)\n",
    "scores = cross_val_score(RandFor, X, y, cv=5)\n",
    "print('accuracy score:' , round(RandFor.score(X, y) * 100, 2))\n",
    "print(scores)\n",
    "scores.mean()"
   ]
  },
  {
   "cell_type": "markdown",
   "id": "6acafc1c",
   "metadata": {
    "papermill": {
     "duration": 0.069894,
     "end_time": "2022-04-21T23:19:32.633890",
     "exception": false,
     "start_time": "2022-04-21T23:19:32.563996",
     "status": "completed"
    },
    "tags": []
   },
   "source": [
    "here we can see that the random forst classifier's performance was a bit better than the logistic regression with an accuracy of around 83%"
   ]
  },
  {
   "cell_type": "markdown",
   "id": "a32a3018",
   "metadata": {
    "papermill": {
     "duration": 0.069398,
     "end_time": "2022-04-21T23:19:32.777954",
     "exception": false,
     "start_time": "2022-04-21T23:19:32.708556",
     "status": "completed"
    },
    "tags": []
   },
   "source": [
    "finaly, we will train a nearest neighbors classifier. "
   ]
  },
  {
   "cell_type": "code",
   "execution_count": 22,
   "id": "50e023b2",
   "metadata": {
    "execution": {
     "iopub.execute_input": "2022-04-21T23:19:32.930524Z",
     "iopub.status.busy": "2022-04-21T23:19:32.929696Z",
     "iopub.status.idle": "2022-04-21T23:19:33.091726Z",
     "shell.execute_reply": "2022-04-21T23:19:33.092282Z",
     "shell.execute_reply.started": "2022-04-21T22:21:23.759890Z"
    },
    "papermill": {
     "duration": 0.244094,
     "end_time": "2022-04-21T23:19:33.092500",
     "exception": false,
     "start_time": "2022-04-21T23:19:32.848406",
     "status": "completed"
    },
    "tags": []
   },
   "outputs": [
    {
     "name": "stdout",
     "output_type": "stream",
     "text": [
      "accuracy score: 82.38\n",
      "[0.81005587 0.79213483 0.82022472 0.78651685 0.84831461]\n"
     ]
    },
    {
     "data": {
      "text/plain": [
       "0.8114493754315486"
      ]
     },
     "execution_count": 22,
     "metadata": {},
     "output_type": "execute_result"
    }
   ],
   "source": [
    "knn = KNeighborsClassifier()\n",
    "X_norm=(X-X.mean())/X.std()\n",
    "X_norm_test=(X_test-X_test.mean())/X_test.std()\n",
    "\n",
    "# params = [{'n_neighbors': [5,10,15,18,19,20,21,22],\n",
    "#          'metric': ['euclidean', 'manhattan', 'minkowski'],\n",
    "#           'weights' : ['uniform', 'distance']}]\n",
    "\n",
    "# gs_knn = GridSearchCV(knn,\n",
    "#                       param_grid=params,\n",
    "#                       scoring='accuracy',\n",
    "#                       cv=5)\n",
    "\n",
    "# gs_knn.fit(X_norm, y)\n",
    "# print('best params' , gs_knn.best_params_)\n",
    "\n",
    "# knn.fit(X_norm,y)\n",
    "# knn_pred = knn.predict(X_test)\n",
    "# print('accuracy score:' , round(knn.score(X_norm, y) * 100, 2))\n",
    "# scores = cross_val_score(knn, X_norm, y, cv=5)\n",
    "# print(scores)\n",
    "# print(scores.mean())\n",
    "\n",
    "knn = KNeighborsClassifier(metric= 'euclidean', n_neighbors= 20, weights= 'uniform')\n",
    "knn.fit(X_norm,y)\n",
    "knn_pred = knn.predict(X_test)\n",
    "print('accuracy score:' , round(knn.score(X_norm, y) * 100, 2))\n",
    "scores = cross_val_score(knn, X_norm, y, cv=5)\n",
    "print(scores)\n",
    "scores.mean()\n"
   ]
  },
  {
   "cell_type": "markdown",
   "id": "f438f010",
   "metadata": {
    "papermill": {
     "duration": 0.070952,
     "end_time": "2022-04-21T23:19:33.234311",
     "exception": false,
     "start_time": "2022-04-21T23:19:33.163359",
     "status": "completed"
    },
    "tags": []
   },
   "source": [
    "after tuning, this model had an accuracy of less than 82%.\n",
    "All of our models performed similarly. to see if we can imporve our accuracy further, I will use a voting classifier to make an ensemble of the three algorithms used so far. "
   ]
  },
  {
   "cell_type": "markdown",
   "id": "026ec317",
   "metadata": {
    "papermill": {
     "duration": 0.070477,
     "end_time": "2022-04-21T23:19:33.376196",
     "exception": false,
     "start_time": "2022-04-21T23:19:33.305719",
     "status": "completed"
    },
    "tags": []
   },
   "source": [
    "**Now Lets create an Ensemble**"
   ]
  },
  {
   "cell_type": "code",
   "execution_count": 23,
   "id": "37d7927a",
   "metadata": {
    "execution": {
     "iopub.execute_input": "2022-04-21T23:19:33.527648Z",
     "iopub.status.busy": "2022-04-21T23:19:33.526934Z",
     "iopub.status.idle": "2022-04-21T23:19:35.037821Z",
     "shell.execute_reply": "2022-04-21T23:19:35.038402Z",
     "shell.execute_reply.started": "2022-04-21T22:21:23.896118Z"
    },
    "papermill": {
     "duration": 1.591003,
     "end_time": "2022-04-21T23:19:35.038638",
     "exception": false,
     "start_time": "2022-04-21T23:19:33.447635",
     "status": "completed"
    },
    "tags": []
   },
   "outputs": [
    {
     "name": "stdout",
     "output_type": "stream",
     "text": [
      "accuracy score: 83.73\n",
      "[0.80446927 0.8258427  0.80898876 0.79775281 0.84831461]\n"
     ]
    },
    {
     "data": {
      "text/plain": [
       "0.8170736300295023"
      ]
     },
     "execution_count": 23,
     "metadata": {},
     "output_type": "execute_result"
    }
   ],
   "source": [
    "classifiers = [('Logistic Regression', logreg),\n",
    "              ('Random Forest', RandFor),\n",
    "              ('knearest neighbors', knn)]\n",
    "VC = VotingClassifier(estimators = classifiers)\n",
    "VC.fit(X_norm,y)\n",
    "y_pred = VC.predict(X_test)\n",
    "print('accuracy score:' , round(VC.score(X_norm, y) * 100, 2))\n",
    "scores = cross_val_score(VC, X_norm, y, cv=5)\n",
    "print(scores)\n",
    "scores.mean()"
   ]
  },
  {
   "cell_type": "markdown",
   "id": "3356e7ce",
   "metadata": {
    "papermill": {
     "duration": 0.073824,
     "end_time": "2022-04-21T23:19:35.186799",
     "exception": false,
     "start_time": "2022-04-21T23:19:35.112975",
     "status": "completed"
    },
    "tags": []
   },
   "source": [
    "the accuracy of the ensemble was also around 82% and did not outperform our random forest classifier. "
   ]
  },
  {
   "cell_type": "markdown",
   "id": "6de4975f",
   "metadata": {
    "papermill": {
     "duration": 0.072975,
     "end_time": "2022-04-21T23:19:35.332908",
     "exception": false,
     "start_time": "2022-04-21T23:19:35.259933",
     "status": "completed"
    },
    "tags": []
   },
   "source": [
    "after all the work to create the ensemble, it turns out that the random forest still produces the best results. "
   ]
  },
  {
   "cell_type": "code",
   "execution_count": 24,
   "id": "b4d0fb86",
   "metadata": {
    "execution": {
     "iopub.execute_input": "2022-04-21T23:19:35.484242Z",
     "iopub.status.busy": "2022-04-21T23:19:35.483207Z",
     "iopub.status.idle": "2022-04-21T23:19:35.493852Z",
     "shell.execute_reply": "2022-04-21T23:19:35.494787Z",
     "shell.execute_reply.started": "2022-04-21T22:21:25.077854Z"
    },
    "papermill": {
     "duration": 0.088969,
     "end_time": "2022-04-21T23:19:35.495068",
     "exception": false,
     "start_time": "2022-04-21T23:19:35.406099",
     "status": "completed"
    },
    "tags": []
   },
   "outputs": [
    {
     "name": "stdout",
     "output_type": "stream",
     "text": [
      "predictions sucessfully saved\n"
     ]
    }
   ],
   "source": [
    "output = pd.DataFrame({'PassengerId': test_data.PassengerId, 'Survived': RandFor_pred})\n",
    "output.to_csv('submission.csv', index=False)\n",
    "print('predictions sucessfully saved')"
   ]
  }
 ],
 "metadata": {
  "kernelspec": {
   "display_name": "Python 3",
   "language": "python",
   "name": "python3"
  },
  "language_info": {
   "codemirror_mode": {
    "name": "ipython",
    "version": 3
   },
   "file_extension": ".py",
   "mimetype": "text/x-python",
   "name": "python",
   "nbconvert_exporter": "python",
   "pygments_lexer": "ipython3",
   "version": "3.7.12"
  },
  "papermill": {
   "default_parameters": {},
   "duration": 31.32168,
   "end_time": "2022-04-21T23:19:36.784308",
   "environment_variables": {},
   "exception": null,
   "input_path": "__notebook__.ipynb",
   "output_path": "__notebook__.ipynb",
   "parameters": {},
   "start_time": "2022-04-21T23:19:05.462628",
   "version": "2.3.3"
  }
 },
 "nbformat": 4,
 "nbformat_minor": 5
}
